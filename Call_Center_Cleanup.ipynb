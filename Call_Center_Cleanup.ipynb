{
 "cells": [
  {
   "cell_type": "markdown",
   "id": "331a1c4f",
   "metadata": {},
   "source": [
    "# Call Center Cleanup\n",
    "\n",
    "For this assignment, we will be working with call center data. You can start working on the assignment after the first lesson on Exploratory Data Analysis. Make sure to read the whole assignment before starting anything! As you code along in the Jupyter notebook, you are asked to make note of the results of your analysis. Do so by clicking on the results box and adding your notes beside each question.\n",
    "\n",
    "## Business Issue and Understanding\n",
    "\n",
    "You are working for a company that has two call centers: the North Call Center and the South Call Center. The company is looking to possibly hire five additional reps to enhance customer experience. Your task is to explore how efficient the current reps are in each branch to determine which branch would benefit from additional assistance.\n",
    "\n",
    "### How the Call Center Works\n",
    "\n",
    "Call center representatives are assigned queues. When calls are assigned to a queue, the call is assigned to the next person in line in the queue. After a call is assigned to a representative, the amount of time between assignment and the call starting is divided into busy minutes and not ready minutes. If the call is incoming and a customer is waiting on the phone for a rep, the time is split into three categories: busy minutes, not ready minutes, and incoming call wait time. Once the rep has the customer on the phone, there might be during call wait time, where the call is put on hold while the rep gets an answer for the customer.\n",
    "\n",
    "### Notes about the Dataset\n",
    "\n",
    "If you haven't worked in a call center before, these notes might help you throughout your analysis.\n",
    "\n",
    "* The call purpose is tagged for each call.\n",
    "* The time of the call is tagged in 1 hour blocks starting at 9:00 AM and ending at 5:00 PM.\n",
    "* Calls are tagged as incoming or outgoing.\n",
    "* Reps are assigned to queues. When the reps are working, they take calls in the order of their queue.\n",
    "* A call that is dropped due to technical error or missed by the center because they have reached maximum capacity is a lost call.\n",
    "* An abandoned call is when the customer hangs up because they have been waiting for too long.\n",
    "* Busy Minutes: the amount of time after a call comes in or needs to go out where the assigned rep is not available because they are busy with other customers.\n",
    "* Not Ready Minutes: the amount of time after a call comes in or needs to go out where the assigned rep is not available because they are not ready (for example, getting water).\n",
    "* Incoming Wait Time - amount of time after assigned rep is available to take the call customer waits for representative to pick up a call. This is tracked in seconds.\n",
    "* During Call Wait Time - amount of time during call that customer has to wait for representative\n",
    "\n",
    "## Getting Started\n",
    "\n",
    "You have two CSVs at your disposal, `NorthCallCenter.csv` and `SouthCallCenter.csv`. Import the appropriate libraries and create two dataframes, one called `north_df` and one called `south_df`."
   ]
  },
  {
   "cell_type": "code",
   "execution_count": 2,
   "id": "f362436b",
   "metadata": {},
   "outputs": [],
   "source": [
    "# Import the appropriate libraries with aliases\n",
    "import pandas as pd\n",
    "import numpy as np\n",
    "\n",
    "\n",
    "# Create two new dataframes\n",
    "north_call_center = pd.read_csv(\"NorthCallCenter.csv\")\n",
    "south_call_center = pd.read_csv(\"SouthCallCenter.csv\")"
   ]
  },
  {
   "cell_type": "markdown",
   "id": "37f77cd4",
   "metadata": {},
   "source": [
    "<span style=\"background-color:orangered; color:orangered;\">- - - - - - - - - - - - - - - - - - - - - - - - - - - - - - - - - - - - - - - - - - - - - - - - - - - - - - - - - - - - - - - - - - - - - - - - - - - - - - - - - - - - - - - - -</span>"
   ]
  },
  {
   "cell_type": "markdown",
   "id": "b4d3484b",
   "metadata": {},
   "source": [
    "## Exploratory Data Analysis\n",
    "\n",
    "Time to do some EDA! In the process of learning more about the two datasets, answer the following questions. In the code blocks below enter the code used to solve the question.  At the end of the section record your answers by double clicking where asked."
   ]
  },
  {
   "cell_type": "markdown",
   "id": "76898991",
   "metadata": {},
   "source": [
    "#### EDA Question 1A:  How many reps are in the North branch?  "
   ]
  },
  {
   "cell_type": "code",
   "execution_count": 3,
   "id": "ce3eb5e4",
   "metadata": {},
   "outputs": [
    {
     "name": "stdout",
     "output_type": "stream",
     "text": [
      "9\n"
     ]
    }
   ],
   "source": [
    "#Code Used:\n",
    "north_reps = len(pd.unique(north_call_center[\"Rep ID\"]))\n",
    "print (north_reps)"
   ]
  },
  {
   "cell_type": "markdown",
   "id": "2a9b34d8",
   "metadata": {},
   "source": [
    "#### EDA Question 1B:  How many reps are in the South branch?  "
   ]
  },
  {
   "cell_type": "code",
   "execution_count": 4,
   "id": "3c715bbf",
   "metadata": {},
   "outputs": [
    {
     "name": "stdout",
     "output_type": "stream",
     "text": [
      "11\n"
     ]
    }
   ],
   "source": [
    "#Code Used:\n",
    "south_reps = len(pd.unique(south_call_center[\"Rep ID\"]))\n",
    "print (south_reps)"
   ]
  },
  {
   "cell_type": "markdown",
   "id": "a872f045",
   "metadata": {},
   "source": [
    "#### EDA Question 2A:  What is the average busy minutes, not ready minutes, incoming wait time, and during call wait time for the North branch? "
   ]
  },
  {
   "cell_type": "code",
   "execution_count": 5,
   "id": "3759305f",
   "metadata": {},
   "outputs": [
    {
     "name": "stdout",
     "output_type": "stream",
     "text": [
      "Busy Minutes             9.987755\n",
      "Not Ready Minutes        1.914286\n",
      "Incoming Wait Time       3.048780\n",
      "During Call Wait Time    2.967347\n",
      "dtype: float64\n"
     ]
    }
   ],
   "source": [
    "#Code Used:\n",
    "north_call_center_mean = north_call_center [[\"Busy Minutes\", \"Not Ready Minutes\", \"Incoming Wait Time\", \"During Call Wait Time\"]].mean()\n",
    "print(north_call_center_mean)"
   ]
  },
  {
   "cell_type": "markdown",
   "id": "3851cf3e",
   "metadata": {},
   "source": [
    "#### EDA Question 2B:  What is the average busy minutes, not ready minutes, incoming wait time, and during call wait time for the South branch? "
   ]
  },
  {
   "cell_type": "code",
   "execution_count": 6,
   "id": "a77ec152",
   "metadata": {},
   "outputs": [
    {
     "name": "stdout",
     "output_type": "stream",
     "text": [
      "Busy Minutes             10.054140\n",
      "Not Ready Minutes         1.910828\n",
      "Incoming Wait Time        3.000000\n",
      "During Call Wait Time     3.076433\n",
      "dtype: float64\n"
     ]
    }
   ],
   "source": [
    "#Code Used:\n",
    "south_call_center_mean = south_call_center [[\"Busy Minutes\", \"Not Ready Minutes\", \"Incoming Wait Time\", \"During Call Wait Time\"]].mean()\n",
    "print(south_call_center_mean)"
   ]
  },
  {
   "cell_type": "markdown",
   "id": "75915553",
   "metadata": {},
   "source": [
    "#### EDA Question 3:  What is the number of calls taken for each time block(Both North and South combined)?"
   ]
  },
  {
   "cell_type": "code",
   "execution_count": 7,
   "id": "49566936",
   "metadata": {},
   "outputs": [
    {
     "name": "stdout",
     "output_type": "stream",
     "text": [
      "Time Block\n",
      "10:00 AM    43\n",
      "11:00 AM    25\n",
      "12:00 PM    45\n",
      "1:00 PM     17\n",
      "2:00 PM     35\n",
      "3:00 PM     30\n",
      "4:00 PM     28\n",
      "5:00 PM     17\n",
      "9:00 AM      5\n",
      "Name: Time Block, dtype: int64\n",
      "Time Block\n",
      "10:00 AM    56\n",
      "11:00 AM    31\n",
      "12:00 PM    75\n",
      "1:00 PM     23\n",
      "2:00 PM     30\n",
      "3:00 PM     43\n",
      "4:00 PM     25\n",
      "5:00 PM     26\n",
      "9:00 AM      5\n",
      "Name: Time Block, dtype: int64\n",
      "Time Block\n",
      "10:00 AM     99\n",
      "11:00 AM     56\n",
      "12:00 PM    120\n",
      "1:00 PM      40\n",
      "2:00 PM      65\n",
      "3:00 PM      73\n",
      "4:00 PM      53\n",
      "5:00 PM      43\n",
      "9:00 AM      10\n",
      "Name: Time Block, dtype: int64\n"
     ]
    }
   ],
   "source": [
    "# Code Used:\n",
    "north_call_center_time_block = north_call_center.groupby([\"Time Block\"])[\"Time Block\"].count()\n",
    "print(north_call_center_time_block)\n",
    "south_call_center_time_block = south_call_center.groupby([\"Time Block\"])[\"Time Block\"].count()\n",
    "print(south_call_center_time_block)\n",
    "time_block_sum = north_call_center_time_block\n",
    "\n",
    "# the above code is for the individual centers.\n",
    "# the below code is for the centers together.\n",
    "\n",
    "time_block_total = pd.concat([north_call_center, south_call_center])\n",
    "time_block_count = time_block_total.groupby([\"Time Block\"])[\"Time Block\"].count()\n",
    "print(time_block_count)\n"
   ]
  },
  {
   "cell_type": "markdown",
   "id": "40b1fd3f",
   "metadata": {},
   "source": [
    "##### Record your answers for the EDA section by double clicking here:\n",
    "- 1a) Reps in the North Branch = 9\n",
    "- 1b) Reps in the South Branch = 11\n",
    "\n",
    "\n",
    "- 2a) North Branch, (round to the nearest hundredth):\n",
    "> - Busy Minutes = 9.99\n",
    "> - Not Ready Minutes = 1.91\n",
    "> - Incoming Wait Time = 3.05\n",
    "> - During Call Wait Time = 2.97\n",
    "- 2b) South Branch, (round to the nearest hundredth):\n",
    "> - Busy Minutes = 10.05\n",
    "> - Not Ready Minutes = 1.91\n",
    "> - Incoming Wait Time = 3.00\n",
    "> - During Call Wait Time = 3.08\n",
    "- 3) Total Calls taken for all branches per time block:\n",
    "> - 9:00AM   = 10\n",
    "> - 10:00AM  = 99\n",
    "> - 11:00AM  = 56\n",
    "> - 12:00PM  = 120\n",
    "> - 1:00PM   = 40\n",
    "> - 2:00PM   = 65\n",
    "> - 3:00PM   = 73\n",
    "> - 4:00PM   = 53\n",
    "> - 5:00PM   = 43\n",
    "\n"
   ]
  },
  {
   "cell_type": "markdown",
   "id": "446048d3",
   "metadata": {},
   "source": [
    "<span style=\"background-color:orangered; color:orangered;\">- - - - - - - - - - - - - - - - - - - - - - - - - - - - - - - - - - - - - - - - - - - - - - - - - - - - - - - - - - - - - - - - - - - - - - - - - - - - - - - - - - - - - - - - -</span>"
   ]
  },
  {
   "cell_type": "markdown",
   "id": "366bfb19",
   "metadata": {},
   "source": [
    "## Cleaning Your Data \n",
    "Now you need to clean up the datasets. When cleaning the datasets, you may find that there isn't dirty data to clean. That is okay! Some questions you need to answer about the data sets.\n",
    "* Add additional code blocks as needed to show how you came to your conclusions. Add comments in your code blocks to help others understand your thinking. "
   ]
  },
  {
   "cell_type": "markdown",
   "id": "c3564d69",
   "metadata": {},
   "source": [
    "#### Cleaning Question 1:  Is there any missing data and if yes explain what you would do with the missing data and why?\n",
    "##### Record your answer by double clicking here:\n",
    "> Your Answer: "
   ]
  },
  {
   "cell_type": "code",
   "execution_count": 8,
   "id": "b77fb574",
   "metadata": {},
   "outputs": [],
   "source": [
    "# Code Used\n",
    "# Add Additional Cells as needed.\n"
   ]
  },
  {
   "cell_type": "markdown",
   "id": "dc47f020",
   "metadata": {},
   "source": [
    "#### Cleaning Question 2:  In the North data set, there are two separate \"YES\" values for a sale. Why and how did you rectify the issue?\n",
    "##### Record your answer by double clicking here:\n",
    "> Your Answer: "
   ]
  },
  {
   "cell_type": "code",
   "execution_count": 9,
   "id": "4e0fbad6",
   "metadata": {},
   "outputs": [],
   "source": [
    "#Code Used\n",
    "# Add Additional Cells as needed.\n"
   ]
  },
  {
   "cell_type": "markdown",
   "id": "715f375a",
   "metadata": {},
   "source": [
    "#### Cleaning Question 3:  Are there duplicates in the two data sets? If there are, how did you handle them?\n",
    "##### Record your answer by double clicking here:\n",
    "> Your Answer: "
   ]
  },
  {
   "cell_type": "code",
   "execution_count": 10,
   "id": "2323673a",
   "metadata": {},
   "outputs": [],
   "source": [
    "#Code Used\n",
    "# Add Additional Cells as needed."
   ]
  },
  {
   "cell_type": "markdown",
   "id": "8ffaa865",
   "metadata": {},
   "source": [
    "#### Cleaning Question 4:  Is any of the data in the two data sets unnecessary? If yes, how did you handle it?\n",
    "##### Record your answer by double clicking here:\n",
    "> Your Answer: I feel like the sale and lost call columns are not really necessary. I would drop those two columns."
   ]
  },
  {
   "cell_type": "code",
   "execution_count": 11,
   "id": "78b45e70",
   "metadata": {},
   "outputs": [],
   "source": [
    "#Code Used\n",
    "# Add Additional Cells as needed."
   ]
  },
  {
   "cell_type": "markdown",
   "id": "f67d89ab",
   "metadata": {},
   "source": [
    "<span style=\"background-color:orangered; color:orangered;\">- - - - - - - - - - - - - - - - - - - - - - - - - - - - - - - - - - - - - - - - - - - - - - - - - - - - - - - - - - - - - - - - - - - - - - - - - - - - - - - - - - - - - - - - -</span>"
   ]
  },
  {
   "cell_type": "markdown",
   "id": "73342a9a",
   "metadata": {},
   "source": [
    "## Data Manipulation\n",
    "Before you begin answering any questions, combine the two datasets together to create a third dataframe called df. You can use this third dataframe to compare the two call centers to company-wide trends.\n",
    "* Add additional code blocks as needed to show how you came to your conclusions. Add comments in your code blocks to help others understand your thinking. Record your answer by double clicking the below cell."
   ]
  },
  {
   "cell_type": "code",
   "execution_count": 12,
   "id": "e9705c34",
   "metadata": {},
   "outputs": [],
   "source": [
    "# Create dataframe for the entire company named df\n",
    "df = pd.concat([north_call_center, south_call_center])"
   ]
  },
  {
   "cell_type": "markdown",
   "id": "7e87dfd1",
   "metadata": {},
   "source": [
    "#### Manipulation Question 1:  Group by Rep ID and sum the resulting structure. Sort by calls to determine which rep in each branch has the highest number of calls.\n",
    "\n",
    "##### Record your answer by double clicking here:\n",
    "Rep with the hightest number of calls and their total calls:\n",
    "- North Branch = Brent 37\n",
    "- South Branch = Eric 35\n"
   ]
  },
  {
   "cell_type": "code",
   "execution_count": 13,
   "id": "3953f09a",
   "metadata": {},
   "outputs": [
    {
     "name": "stdout",
     "output_type": "stream",
     "text": [
      "Branch  Rep ID\n",
      "North   Amanda    23\n",
      "        Andy      23\n",
      "        Brent     37\n",
      "        Cam       24\n",
      "        Duke      29\n",
      "        Joe       26\n",
      "        Lilly     30\n",
      "        Todd      29\n",
      "        Xander    24\n",
      "South   Alice     20\n",
      "        Eric      35\n",
      "        George    29\n",
      "        Helga     31\n",
      "        Josh      26\n",
      "        Karl      28\n",
      "        Kate      29\n",
      "        Randy     33\n",
      "        Sandy     32\n",
      "        Sharon    25\n",
      "        Susan     26\n",
      "Name: Rep ID, dtype: int64\n"
     ]
    }
   ],
   "source": [
    "# Code Used\n",
    "df_rep = df.groupby([\"Branch\", \"Rep ID\"])[\"Rep ID\"].count()\n",
    "print(df_rep)\n",
    "\n",
    "# Add Additional Cells as needed.\n",
    "# Not sure how to sort it by calls."
   ]
  },
  {
   "cell_type": "code",
   "execution_count": 14,
   "id": "48898029",
   "metadata": {},
   "outputs": [
    {
     "name": "stdout",
     "output_type": "stream",
     "text": [
      "Branch  Rep ID\n",
      "South   Alice     20\n",
      "North   Amanda    23\n",
      "        Andy      23\n",
      "        Cam       24\n",
      "        Xander    24\n",
      "South   Sharon    25\n",
      "        Susan     26\n",
      "North   Joe       26\n",
      "South   Josh      26\n",
      "        Karl      28\n",
      "North   Duke      29\n",
      "        Todd      29\n",
      "South   George    29\n",
      "        Kate      29\n",
      "North   Lilly     30\n",
      "South   Helga     31\n",
      "        Sandy     32\n",
      "        Randy     33\n",
      "        Eric      35\n",
      "North   Brent     37\n",
      "Name: Rep ID, dtype: int64\n"
     ]
    }
   ],
   "source": [
    "sorted_df = df_rep.sort_values()\n",
    "print(sorted_df)"
   ]
  },
  {
   "cell_type": "markdown",
   "id": "809293b9",
   "metadata": {},
   "source": [
    "#### Manipulation Question 2:  The average call abandonment rate is a KPI when it comes to determining call center efficiency. As you may recall, abandoned calls are calls where the customer hangs up due to long call times. What is the average call abandonment rate for each branch and the whole company? Do any of these fall out of the optimal range of 2-5%?\n",
    "##### Record your answer by double clicking here:\n",
    "Average Call Abandonment Rates (round to the nearest hundredth):\n",
    "- North Branch = 7\n",
    "- South Branch = 4\n",
    "- Company Wide = 11\n",
    "- Do any of these fall out of the optimal range of 2-5%? I think the North would fall out of that because if there 11 total abandoned calls. 7/11 is 64%"
   ]
  },
  {
   "cell_type": "code",
   "execution_count": 15,
   "id": "3dff7534",
   "metadata": {},
   "outputs": [
    {
     "name": "stdout",
     "output_type": "stream",
     "text": [
      "Branch  Abandoned\n",
      "North   0            238\n",
      "        1              7\n",
      "South   0            310\n",
      "        1              4\n",
      "Name: Abandoned, dtype: int64\n",
      "11\n"
     ]
    }
   ],
   "source": [
    "# Code Used\n",
    "df_call_abandonment_rate = df.groupby([\"Branch\", \"Abandoned\"])[\"Abandoned\"].count()\n",
    "print(df_call_abandonment_rate)\n",
    "df_sum = df['Abandoned'].sum()\n",
    "print(df_sum)\n",
    "# Add Additional Cells as needed."
   ]
  },
  {
   "cell_type": "markdown",
   "id": "598bb1bf",
   "metadata": {},
   "source": [
    "#### Manipulation Question 3:  Service level is another KPI when it comes to measuring call center efficiency. Service level is the percentage of calls answered within a specific number of seconds. In the case of your employer, their ideal time frame is 2 seconds. What is the percentage of calls answered within 2 seconds for each branch and the entire company?\n",
    "##### Record your answer by double clicking here:\n",
    "Percentage of calls answered within 2 seconds, include # of calls:\n",
    "- North Branch = 40.24%\n",
    "- South Branch = 38.10%\n",
    "- Company Wide = 38.94%"
   ]
  },
  {
   "cell_type": "code",
   "execution_count": 130,
   "id": "2fc8f669",
   "metadata": {},
   "outputs": [
    {
     "name": "stdout",
     "output_type": "stream",
     "text": [
      "Unnamed: 0               643.902439\n",
      "Lost Call                  0.000000\n",
      "Abandoned                  2.439024\n",
      "Busy Minutes             403.658537\n",
      "Not Ready Minutes         76.829268\n",
      "During Call Wait Time    128.048780\n",
      "Calls                     40.243902\n",
      "dtype: float64\n",
      "Unnamed: 0               895.238095\n",
      "Lost Call                  0.793651\n",
      "Abandoned                  0.000000\n",
      "Busy Minutes             382.539683\n",
      "Not Ready Minutes         73.809524\n",
      "During Call Wait Time    120.634921\n",
      "Calls                     38.095238\n",
      "dtype: float64\n",
      "Unnamed: 0               796.153846\n",
      "Lost Call                  0.480769\n",
      "Abandoned                  0.961538\n",
      "Busy Minutes             390.865385\n",
      "Not Ready Minutes         75.000000\n",
      "During Call Wait Time    123.557692\n",
      "Calls                     38.942308\n",
      "dtype: float64\n"
     ]
    }
   ],
   "source": [
    "# Code Used\n",
    "\n",
    "north_branch_wait = north_call_center.groupby([\"Incoming Wait Time\"])[\"Incoming Wait Time\"].count()\n",
    "sum_north_branch_wait = north_branch_wait.sum()\n",
    "\n",
    "south_branch_wait = south_call_center.groupby([\"Incoming Wait Time\"])[\"Incoming Wait Time\"].count()\n",
    "sum_south_branch_wait = south_branch_wait.sum()\n",
    "\n",
    "north_calls_within_two_seconds = north_call_center[north_call_center[\"Incoming Wait Time\"] <= 2.0]\n",
    "north_rep_calls = north_calls_within_two_seconds.groupby([\"Incoming Wait Time\"]).sum()\n",
    "sum_north = north_rep_calls.sum()\n",
    "\n",
    "south_calls_within_two_seconds = south_call_center[south_call_center[\"Incoming Wait Time\"] <= 2.0]\n",
    "south_rep_calls = south_calls_within_two_seconds.groupby([\"Incoming Wait Time\"]).sum()\n",
    "sum_south = south_rep_calls.sum()\n",
    "\n",
    "service_level_north = (sum_north / sum_north_branch_wait) * 100\n",
    "service_level_south = (sum_south / sum_south_branch_wait) * 100\n",
    "\n",
    "total_wait_within_two_seconds = sum_north + sum_south\n",
    "total_for_whole_company = sum_north_branch_wait + sum_south_branch_wait\n",
    "service_level_for_whole_company = (total_wait_within_two_seconds / total_for_whole_company) * 100\n",
    "\n",
    "\n",
    "# print(sum_north_branch_wait)\n",
    "# print(sum_south_branch_wait)\n",
    "# print(sum_north)\n",
    "# print(sum_south)\n",
    "print(service_level_north)\n",
    "print(service_level_south)\n",
    "# print(total_wait_within_two_seconds)\n",
    "# print(total_for_whole_company)\n",
    "print(service_level_for_whole_company)\n",
    "\n",
    "\n",
    "# Add Additional Cells as needed.\n",
    "#33/82 = 40%\n",
    "#48/126 = 38%\n",
    "#81/208 = 39%"
   ]
  },
  {
   "cell_type": "markdown",
   "id": "7e19e705",
   "metadata": {},
   "source": [
    "#### Manipulation Question 4: For each branch and the entire company, what is the average speed of answer?\n",
    "##### Record your answer by double clicking here:\n",
    "Average speed of answer (rounded to nearest hundredth):\n",
    "- North Branch in seconds = 3.05\n",
    "- South Branch in seconds = 3.00\n",
    "- Company Wide in seconds = 3.02\n"
   ]
  },
  {
   "cell_type": "code",
   "execution_count": 17,
   "id": "72a653ed",
   "metadata": {},
   "outputs": [
    {
     "name": "stdout",
     "output_type": "stream",
     "text": [
      "Branch\n",
      "North    3.04878\n",
      "South    3.00000\n",
      "Name: Incoming Wait Time, dtype: float64\n",
      "3.019230769230769\n"
     ]
    }
   ],
   "source": [
    "# Code Used \n",
    "df_answer_speed = df.groupby([\"Branch\"])[\"Incoming Wait Time\"].mean()\n",
    "print(df_answer_speed)\n",
    "df_average = df[\"Incoming Wait Time\"].mean()\n",
    "print(df_average)"
   ]
  },
  {
   "cell_type": "code",
   "execution_count": 18,
   "id": "87d793ce",
   "metadata": {},
   "outputs": [
    {
     "name": "stdout",
     "output_type": "stream",
     "text": [
      "Branch  Queue  Abandoned\n",
      "North   A      0             92\n",
      "               1              4\n",
      "        B      0            146\n",
      "               1              3\n",
      "South   C      0            137\n",
      "               1              1\n",
      "        D      0            173\n",
      "               1              3\n",
      "Name: Abandoned, dtype: int64\n"
     ]
    }
   ],
   "source": [
    "df_call_abandonment_rate = df.groupby([\"Branch\", \"Queue\", \"Abandoned\"])[\"Abandoned\"].count()\n",
    "print(df_call_abandonment_rate)"
   ]
  },
  {
   "cell_type": "markdown",
   "id": "ba3ca2cd",
   "metadata": {},
   "source": [
    "<span style=\"background-color:orangered; color:orangered;\">- - - - - - - - - - - - - - - - - - - - - - - - - - - - - - - - - - - - - - - - - - - - - - - - - - - - - - - - - - - - - - - - - - - - - - - - - - - - - - - - - - - - - - - - -</span>"
   ]
  },
  {
   "cell_type": "markdown",
   "id": "d5f50a40",
   "metadata": {},
   "source": [
    "## Visualization\n",
    "\n",
    "Create a visualization for each of the following questions. Some of the code to handle aggregating and storing data may be written for you. For each visualization, you choose the chart style that you feel suits the situation best. Make note of the chart style you chose and why. \n",
    "\n",
    "*NOTE Some questions you may decide to use more than one chart and or chart style."
   ]
  },
  {
   "cell_type": "markdown",
   "id": "66ccf83c",
   "metadata": {},
   "source": [
    "#### Visualization 1:  What is the average abandonment rate per queue?\n",
    "##### Record your answer by double clicking here:\n",
    "\n",
    "> Chart style you chose and why: I chose a bar graph because it most clearly shows you the comparison between the queues and the abandoned calss."
   ]
  },
  {
   "cell_type": "code",
   "execution_count": 62,
   "id": "c971d779",
   "metadata": {
    "scrolled": false
   },
   "outputs": [
    {
     "name": "stdout",
     "output_type": "stream",
     "text": [
      "{'A': 0.041666666666666664, 'B': 0.020134228187919462, 'C': 0.007246376811594203, 'D': 0.017045454545454544}\n",
      "          A         B         C         D\n",
      "0  0.041667  0.020134  0.007246  0.017045\n"
     ]
    },
    {
     "data": {
      "text/plain": [
       "Text(0.5, 0, 'Queues')"
      ]
     },
     "execution_count": 62,
     "metadata": {},
     "output_type": "execute_result"
    },
    {
     "data": {
      "image/png": "[encoded data removed]",
      "text/plain": [
       "<Figure size 640x480 with 1 Axes>"
      ]
     },
     "metadata": {},
     "output_type": "display_data"
    }
   ],
   "source": [
    "# Create visualization 1 here\n",
    "# Import any additional libraries needed with alias\n",
    "import pandas as pd\n",
    "import seaborn as sb\n",
    "from matplotlib import pyplot as plt\n",
    "from matplotlib import style\n",
    "style.use('ggplot')\n",
    "#plt.reParams[\"figure.figsize\"] = [10,6]\n",
    "\n",
    "# The dictionary abandonment_rates has the data you need.\n",
    "abandonment_rates = {}\n",
    "queues = [\"A\", \"B\", \"C\", \"D\"]\n",
    "queue_dict = df.groupby(\"Queue\").agg(\"sum\")\n",
    "for i in range(4):\n",
    "    abandonment_rates[queues[i]] = queue_dict[\"Abandoned\"][i] / queue_dict[\"Calls\"][i] \n",
    "\n",
    "print(abandonment_rates)\n",
    "df2 = pd.DataFrame([abandonment_rates], index = [0]).T\n",
    "print(df2.T)\n",
    "\n",
    "#Your Code Here:\n",
    "# df2 = pd.DataFrame([abandonment_rates], index = queues)\n",
    "# df3 = pd.DataFrame.from_dict(abandonment_rates, orient='index')\n",
    "# df2.plot.bar(rot=0, title='Average Abandonment Rate Per Queue', figsize=(15,10), fontsize=12)\n",
    "# df2.plot(kind='bar', legend = False)\n",
    "\n",
    "df2.plot.bar(rot=0, legend=False, color='teal')\n",
    "plt.ylabel(\"Average Abandonment Rate\")\n",
    "plt.xlabel(\"Queues\")"
   ]
  },
  {
   "cell_type": "markdown",
   "id": "4a9fc77f",
   "metadata": {},
   "source": [
    "#### Visualization 2: What is the service level percentage and average speed of answer for each rep in the North Branch?\n",
    "##### Record your answer by double clicking here:\n",
    "\n",
    "> Chart style you chose and why: I chose a line graph so that you could see the drastic differences between the abilities of the individual reps."
   ]
  },
  {
   "cell_type": "code",
   "execution_count": 26,
   "id": "61f65a7f",
   "metadata": {},
   "outputs": [
    {
     "name": "stdout",
     "output_type": "stream",
     "text": [
      "   Rep ID  Incoming Wait Time\n",
      "0  Amanda            2.400000\n",
      "1    Andy            3.600000\n",
      "2   Brent            2.125000\n",
      "3     Cam            2.909091\n",
      "4    Duke            2.785714\n",
      "5     Joe            3.600000\n",
      "6   Lilly            3.083333\n",
      "7    Todd            3.500000\n",
      "8  Xander            3.333333\n",
      "        Calls_x  Calls_y  Service Level %\n",
      "Rep ID                                   \n",
      "Amanda        3        5        60.000000\n",
      "Andy          3       10        30.000000\n",
      "Brent         6        8        75.000000\n",
      "Cam           5       11        45.454545\n",
      "Duke          6       14        42.857143\n",
      "Joe           2       10        20.000000\n",
      "Lilly         4       12        33.333333\n",
      "Todd          2        6        33.333333\n",
      "Xander        2        6        33.333333\n"
     ]
    },
    {
     "data": {
      "image/png": "[encoded data removed]",
      "text/plain": [
       "<Figure size 640x480 with 1 Axes>"
      ]
     },
     "metadata": {},
     "output_type": "display_data"
    },
    {
     "data": {
      "image/png": "[encoded data removed]",
      "text/plain": [
       "<Figure size 640x480 with 1 Axes>"
      ]
     },
     "metadata": {},
     "output_type": "display_data"
    }
   ],
   "source": [
    "# Create visualization 2 here\n",
    "# north_plt contains the data you need for the average speed of answer of each rep\n",
    "\n",
    "north_plt = north_call_center.groupby(\"Rep ID\")[\"Incoming Wait Time\"].mean().to_frame().reset_index()\n",
    "\n",
    "# Finding each Rep's Personal Service Level Percentage.  Basically, Calls within 2 secs / total calls\n",
    "\n",
    "# Table 1: Total Incoming calls less than 2 seconds grouped by Rep\n",
    "quick_calls = north_call_center[north_call_center[\"Incoming Wait Time\"] <= 2.0]\n",
    "quick_reps = quick_calls[[\"Rep ID\", \"Calls\"]]\n",
    "quick_stats = quick_reps.groupby([\"Rep ID\"]).sum()  # Final Table\n",
    "\n",
    "\n",
    "# Table 2: Total Incoming Calls Only grouped by Rep\n",
    "total_calls_in = north_call_center[north_call_center[\"Incoming or Outgoing\"] == \"Incoming\"]\n",
    "rep_calls = total_calls_in[[\"Rep ID\", \"Calls\"]]     \n",
    "total_stats = rep_calls.groupby([\"Rep ID\"]).sum() # Final Table  \n",
    "\n",
    "#  Table 3: Service Level Percentage created via merge\n",
    "service_level = pd.merge(quick_stats, total_stats, on=\"Rep ID\")\n",
    "\n",
    "# Create Percentage Column in Table 3\n",
    "service_level[\"Service Level %\"] = service_level[\"Calls_x\"]/service_level[\"Calls_y\"] * 100\n",
    "\n",
    "#Your Code Here:\n",
    "print(north_plt)\n",
    "print(service_level)\n",
    "# fig3 = pd.DataFrame([north_plt], index = [0])\n",
    "service_level[\"Service Level %\"].plot.line(x=\"Rep ID\", y=\"Service Level %\", rot=0)\n",
    "plt.xlabel(\"Rep ID\")\n",
    "plt.ylabel(\"Service Level %\")\n",
    "plt.title(\"Service Level for Each Rep\")\n",
    "north_plt.plot.line(x=\"Rep ID\", y = \"Incoming Wait Time\", rot=0, color='b')\n",
    "plt.xlabel(\"Rep ID\")\n",
    "plt.ylabel(\"Incoming Wait Time\")\n",
    "plt.title(\"Incoming Wait Time for Each Rep\")\n",
    "plt.show()"
   ]
  },
  {
   "cell_type": "markdown",
   "id": "f965e41a",
   "metadata": {},
   "source": [
    "#### Visualization 3: For each type of call purpose, how many calls are outgoing vs. incoming?\n",
    "##### Record your answer by double clicking here:\n",
    "\n",
    "> Chart style you chose and why: I chose a grouped bar graph because it shows you the data side by side for each individual type of call."
   ]
  },
  {
   "cell_type": "code",
   "execution_count": 21,
   "id": "44096730",
   "metadata": {},
   "outputs": [
    {
     "name": "stdout",
     "output_type": "stream",
     "text": [
      "Call Purpose     Incoming or Outgoing\n",
      "Complaint        Incoming                 51\n",
      "Product Support  Outgoing                228\n",
      "                 Incoming                 82\n",
      "Sales Support    Outgoing                123\n",
      "                 Incoming                 75\n",
      "Name: Incoming or Outgoing, dtype: int64\n",
      "{'Incoming': 51}\n",
      "{'Outgoing': 123, 'Incoming': 75}\n",
      "{'Outgoing': 228, 'Incoming': 82}\n"
     ]
    },
    {
     "data": {
      "text/plain": [
       "Text(0, 0.5, 'Number of Calls')"
      ]
     },
     "execution_count": 21,
     "metadata": {},
     "output_type": "execute_result"
    },
    {
     "data": {
      "image/png": "[encoded data removed]",
      "text/plain": [
       "<Figure size 640x480 with 1 Axes>"
      ]
     },
     "metadata": {},
     "output_type": "display_data"
    }
   ],
   "source": [
    "# Create visualization 3 here:\n",
    "# The three dictionaries, complaints, sales_support, and product_support, have the information you need\n",
    "\n",
    "purpose_group = df.groupby(\"Call Purpose\")\n",
    "call_purpose = [\"Complaint\", \"Product Support\", \"Sales Support\"]\n",
    "purpose_counts = purpose_group[\"Incoming or Outgoing\"].value_counts()\n",
    "print(purpose_counts)\n",
    "\n",
    "complaints = purpose_counts[\"Complaint\"].to_dict()\n",
    "sales_support = purpose_counts[\"Sales Support\"].to_dict()\n",
    "product_support = purpose_counts[\"Product Support\"].to_dict()\n",
    "\n",
    "print(complaints)\n",
    "print(sales_support)\n",
    "print(product_support)\n",
    "\n",
    "#Your Code Here:\n",
    "fig1 = pd.DataFrame([complaints, sales_support, product_support], index = ['complaints', 'sales_support', 'product_support'])\n",
    "# fig1.plot()\n",
    "fig1.plot.bar(rot=0)\n",
    "plt.title('Outgoing vs. Incoming Types of Calls')\n",
    "plt.xlabel('Types of Calls')\n",
    "plt.ylabel('Number of Calls')"
   ]
  },
  {
   "cell_type": "markdown",
   "id": "acc2e36a",
   "metadata": {},
   "source": [
    "<span style=\"background-color:orangered; color:orangered;\">- - - - - - - - - - - - - - - - - - - - - - - - - - - - - - - - - - - - - - - - - - - - - - - - - - - - - - - - - - - - - - - - - - - - - - - - - - - - - - - - - - - - - - - - -</span>"
   ]
  },
  {
   "cell_type": "markdown",
   "id": "ea7ed568",
   "metadata": {},
   "source": [
    "## Summarize Your Work\n",
    "\n",
    "With what you know now about the two call centers and the entire company, answer the following questions. Note that while this is subjective, you should include relevant data to back up your opinion.\n"
   ]
  },
  {
   "cell_type": "markdown",
   "id": "d2fc3d13",
   "metadata": {},
   "source": [
    "#### Summary Question 1:  Using KPIs such as average abandonment rate, service level and average speed of answer, in your opinion, which one of the two branches is operating more efficiently? Why?\n",
    "\n",
    "##### Record your answer by double clicking here:\n",
    "> Your Answer: \n",
    "Manipulation question 2 shows us that the South Branch has a lower percentage of abandoned calls. The average speed of answering is about the same for the branches, but the South Branch is doing a little bit better at answering the phone calls.\n"
   ]
  },
  {
   "cell_type": "markdown",
   "id": "489f28d6",
   "metadata": {},
   "source": [
    "#### Summary Question 2: Based on the number of reps in each branch and how quickly the reps are working, in your opinion, which branch would benefit from the extra help?\n",
    "\n",
    "##### Record your answer by double clicking here:\n",
    "> Your Answer: \n",
    "Of the 9 time blocks the South Branch answers more calls during 6 of them. The North has 4 of the lowest Reps answering calls, and the South has 4 of the highest Reps who answer calls. South has the fewest abandoned calls and the best speed of answering calls. The service level shows that the South has more answered calls and a better percentage of less than 2 min wait time. I think with that information the North Branch would benefit the most from the extra help.\n"
   ]
  },
  {
   "cell_type": "markdown",
   "id": "0b10a8c3",
   "metadata": {},
   "source": [
    "#### Summary Question 3: Now that you have explored the datasets, is there any data or information that you wish you had in this analysis?\n",
    "\n",
    "##### Record your answer by double clicking here:\n",
    "> Your Answer: \n"
   ]
  },
  {
   "cell_type": "markdown",
   "id": "653787a4",
   "metadata": {},
   "source": [
    "<span style=\"background-color:orangered; color:orangered;\">- - - - - - - - - - - - - - - - - - - - - - - - - - - - - - - - - - - - - - - - - - - - - - - - - - - - - - - - - - - - - - - - - - - - - - - - - - - - - - - - - - - - - - - - -</span>"
   ]
  },
  {
   "cell_type": "markdown",
   "id": "ce16f43d",
   "metadata": {},
   "source": [
    "## Bonus Mission\n",
    "Create a visualization that answers this question: For each call purpose, how many calls (incoming and outgoing) take place in each time block?\n",
    "##### Record your answer by double clicking here:\n",
    "\n",
    "> Chart style you chose and why: "
   ]
  },
  {
   "cell_type": "code",
   "execution_count": null,
   "id": "71b04f32",
   "metadata": {},
   "outputs": [],
   "source": [
    "# Create your Bonus Mission visualization here!\n",
    "call_times = df[[\"Time Block\", \"Call Purpose\", \"Incoming or Outgoing\", \"Calls\"]]\n",
    "\n",
    "# Use groupby to plot based on time blocks:\n",
    "\n",
    "# Use groupby and get_group to select which call purpose to plot:"
   ]
  }
 ],
 "metadata": {
  "kernelspec": {
   "display_name": "Python 3 (ipykernel)",
   "language": "python",
   "name": "python3"
  },
  "language_info": {
   "codemirror_mode": {
    "name": "ipython",
    "version": 3
   },
   "file_extension": ".py",
   "mimetype": "text/x-python",
   "name": "python",
   "nbconvert_exporter": "python",
   "pygments_lexer": "ipython3",
   "version": "3.9.13"
  }
 },
 "nbformat": 4,
 "nbformat_minor": 5
}
